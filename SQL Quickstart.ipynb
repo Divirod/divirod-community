{
 "cells": [
  {
   "cell_type": "code",
   "execution_count": 0,
   "metadata": {
    "application/vnd.databricks.v1+cell": {
     "cellMetadata": {
      "byteLimit": 2048000,
      "rowLimit": 10000
     },
     "inputWidgets": {},
     "nuid": "dacadf26-c512-41ea-b932-440c7caafac2",
     "showTitle": false,
     "title": ""
    }
   },
   "outputs": [],
   "source": [
    "import datetime\n",
    "import plotly.express as px"
   ]
  },
  {
   "cell_type": "code",
   "execution_count": 0,
   "metadata": {
    "application/vnd.databricks.v1+cell": {
     "cellMetadata": {
      "byteLimit": 2048000,
      "rowLimit": 10000
     },
     "inputWidgets": {},
     "nuid": "95d620ba-39a9-4fd1-9421-517f624c7393",
     "showTitle": false,
     "title": ""
    }
   },
   "outputs": [],
   "source": [
    "SELECTED_INSTRUMENTS = tuple(range(1000,30000,2500))\n",
    "\n",
    "start = datetime.datetime(2024,1,1)\n",
    "end = datetime.datetime.now()"
   ]
  },
  {
   "cell_type": "code",
   "execution_count": 0,
   "metadata": {
    "application/vnd.databricks.v1+cell": {
     "cellMetadata": {
      "byteLimit": 2048000,
      "rowLimit": 10000
     },
     "inputWidgets": {},
     "nuid": "933c3e79-3ee8-46fb-b7ac-5c460d1e456b",
     "showTitle": false,
     "title": ""
    }
   },
   "outputs": [],
   "source": [
    "data_spark = spark.sql(f\"\"\"\n",
    "                       SELECT * FROM divirod.measurements.water_level\n",
    "                       WHERE instrument_id IN {SELECTED_INSTRUMENTS}\n",
    "                       AND time > '{start}'\n",
    "                       AND time <= '{end}';\n",
    "                       \"\"\")"
   ]
  },
  {
   "cell_type": "code",
   "execution_count": 0,
   "metadata": {
    "application/vnd.databricks.v1+cell": {
     "cellMetadata": {
      "byteLimit": 2048000,
      "rowLimit": 10000
     },
     "inputWidgets": {},
     "nuid": "cabfd530-d6da-4bd2-abb6-33b5a717a9fb",
     "showTitle": false,
     "title": ""
    }
   },
   "outputs": [],
   "source": [
    "data = data_spark.toPandas()"
   ]
  },
  {
   "cell_type": "code",
   "execution_count": 0,
   "metadata": {
    "application/vnd.databricks.v1+cell": {
     "cellMetadata": {
      "byteLimit": 2048000,
      "rowLimit": 10000
     },
     "inputWidgets": {},
     "nuid": "f641af77-2790-4a4c-8734-0d245828fb95",
     "showTitle": false,
     "title": ""
    }
   },
   "outputs": [],
   "source": [
    "data.sort_values(\"time\").head()"
   ]
  },
  {
   "cell_type": "code",
   "execution_count": 0,
   "metadata": {
    "application/vnd.databricks.v1+cell": {
     "cellMetadata": {
      "byteLimit": 2048000,
      "rowLimit": 10000
     },
     "inputWidgets": {},
     "nuid": "4d44603f-352f-4eae-aaef-7d387b91ea59",
     "showTitle": false,
     "title": ""
    }
   },
   "outputs": [],
   "source": [
    "data.groupby(\"instrument_id\").instrument_id.count()"
   ]
  },
  {
   "cell_type": "code",
   "execution_count": 0,
   "metadata": {
    "application/vnd.databricks.v1+cell": {
     "cellMetadata": {
      "byteLimit": 2048000,
      "rowLimit": 10000
     },
     "inputWidgets": {},
     "nuid": "6e29c242-277b-42ae-a0e7-2a553ece9972",
     "showTitle": false,
     "title": ""
    }
   },
   "outputs": [],
   "source": [
    "data.provider_id.unique()"
   ]
  },
  {
   "cell_type": "code",
   "execution_count": 0,
   "metadata": {
    "application/vnd.databricks.v1+cell": {
     "cellMetadata": {
      "byteLimit": 2048000,
      "rowLimit": 10000
     },
     "inputWidgets": {},
     "nuid": "60c1a163-0ea1-4282-853d-428428119498",
     "showTitle": false,
     "title": ""
    }
   },
   "outputs": [],
   "source": [
    "# Normalize the data for each instrument_id\n",
    "\n",
    "data[\"height_normalized\"] = data[[\"instrument_id\",\"height_native\"]].groupby('instrument_id').transform(lambda x: (x - x.mean()) / x.std())['height_native']"
   ]
  },
  {
   "cell_type": "code",
   "execution_count": 0,
   "metadata": {
    "application/vnd.databricks.v1+cell": {
     "cellMetadata": {
      "byteLimit": 2048000,
      "rowLimit": 10000
     },
     "inputWidgets": {},
     "nuid": "2cf6bed8-75f4-4615-9911-40229793e682",
     "showTitle": false,
     "title": ""
    }
   },
   "outputs": [],
   "source": [
    "px.scatter(data.assign(instrument_id_str = data[\"instrument_id\"].astype(str)), \"time\", \"height_normalized\", color=\"instrument_id_str\")"
   ]
  }
 ],
 "metadata": {
  "application/vnd.databricks.v1+notebook": {
   "dashboards": [],
   "language": "python",
   "notebookMetadata": {
    "pythonIndentUnit": 4
   },
   "notebookName": "SQL Quickstart",
   "widgets": {}
  }
 },
 "nbformat": 4,
 "nbformat_minor": 0
}
